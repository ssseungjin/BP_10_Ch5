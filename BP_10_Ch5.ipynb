{
  "nbformat": 4,
  "nbformat_minor": 0,
  "metadata": {
    "colab": {
      "provenance": [],
      "authorship_tag": "ABX9TyNoFJqXz7gXztong0h3m/dV",
      "include_colab_link": true
    },
    "kernelspec": {
      "name": "python3",
      "display_name": "Python 3"
    },
    "language_info": {
      "name": "python"
    }
  },
  "cells": [
    {
      "cell_type": "markdown",
      "metadata": {
        "id": "view-in-github",
        "colab_type": "text"
      },
      "source": [
        "<a href=\"https://colab.research.google.com/github/ssseungjin/BP_10_Ch5/blob/main/BP_10_Ch5.ipynb\" target=\"_parent\"><img src=\"https://colab.research.google.com/assets/colab-badge.svg\" alt=\"Open In Colab\"/></a>"
      ]
    },
    {
      "cell_type": "code",
      "execution_count": 1,
      "metadata": {
        "colab": {
          "base_uri": "https://localhost:8080/"
        },
        "id": "YMNhXDMiiaOP",
        "outputId": "f8f1474e-9ff9-411d-ac24-bb46ff5f252a"
      },
      "outputs": [
        {
          "output_type": "stream",
          "name": "stdout",
          "text": [
            "20살 이상\n"
          ]
        }
      ],
      "source": [
        "age = 20\n",
        "if age <20:\n",
        "    print(\"20살 미만\")\n",
        "else:\n",
        "    print(\"20살 이상\")\n",
        " "
      ]
    },
    {
      "cell_type": "code",
      "source": [
        "age = 20\n",
        "if 30 >= age and age <= 50:\n",
        "    print(\"20살 미만\")\n",
        "else:\n",
        "    print(\"20살 이상\")"
      ],
      "metadata": {
        "colab": {
          "base_uri": "https://localhost:8080/"
        },
        "id": "IzxqB2xLijE1",
        "outputId": "0be29ebd-d044-413d-ac9d-53c7a046027f"
      },
      "execution_count": 2,
      "outputs": [
        {
          "output_type": "stream",
          "name": "stdout",
          "text": [
            "20살 미만\n"
          ]
        }
      ]
    },
    {
      "cell_type": "code",
      "source": [
        "temp = int(input(\"현재 온도를 입력하시오 : \"))\n",
        " \n",
        "if temp >= 25:\n",
        "    print(\"반바지를 입으세요\")\n",
        "elif temp < 25:\n",
        "    print(\"긴바지를 입으세요\")"
      ],
      "metadata": {
        "colab": {
          "base_uri": "https://localhost:8080/"
        },
        "id": "Vb_Zpm76ivfB",
        "outputId": "6843cd15-b4e0-4924-8347-0d1ae5cb34c5"
      },
      "execution_count": 3,
      "outputs": [
        {
          "output_type": "stream",
          "name": "stdout",
          "text": [
            "현재 온도를 입력하시오 : 24\n",
            "긴바지를 입으세요\n"
          ]
        }
      ]
    },
    {
      "cell_type": "code",
      "source": [
        "score = int(input(\"성적을 입력하시오 : \"))\n",
        " \n",
        "if score > 100:\n",
        "    print(\"범위에 없습니다\")\n",
        "elif score >= 90:\n",
        "    print(\"A\")\n",
        "elif score >= 80:\n",
        "    print(\"B\")\n",
        "elif score >= 70:\n",
        "    print(\"C\")\n",
        "elif score >= 60:\n",
        "    print(\"D\")\n",
        "elif 60 > score >= 0:\n",
        "    print(\"F\")\n",
        "else :\n",
        "    print(\"범위에 없습니다.\")"
      ],
      "metadata": {
        "colab": {
          "base_uri": "https://localhost:8080/"
        },
        "id": "4nIZZ9YBjVM6",
        "outputId": "f5618200-cb92-4faf-f586-ffc09c5abc38"
      },
      "execution_count": 7,
      "outputs": [
        {
          "output_type": "stream",
          "name": "stdout",
          "text": [
            "성적을 입력하시오 : 80\n",
            "B\n"
          ]
        }
      ]
    },
    {
      "cell_type": "code",
      "source": [
        "import random\n",
        " \n",
        "x = random.randint(1, 100)\n",
        "y = random.randint(1, 100)\n",
        " \n",
        "total =int(input(str(x) + \"-\" + str(y) + \"=\"))\n",
        "if total == x - y :\n",
        "    print(\"맞았습니다.\")\n",
        "else :\n",
        "    print(\"틀렸습니다.\")"
      ],
      "metadata": {
        "colab": {
          "base_uri": "https://localhost:8080/"
        },
        "id": "q-yyKWTBjlBu",
        "outputId": "7478342c-cb11-47db-f4c5-4572d6eb1feb"
      },
      "execution_count": 8,
      "outputs": [
        {
          "output_type": "stream",
          "name": "stdout",
          "text": [
            "98-23=75\n",
            "맞았습니다.\n"
          ]
        }
      ]
    },
    {
      "cell_type": "code",
      "source": [
        "n = int(input(\"정수를 입력하시오 : \"))\n",
        " \n",
        "if n%2==0 and n%3==0:\n",
        "    print(\"2와 3으로 나누어 떨어집니다.\")\n",
        "else:\n",
        "    print(\"2와 3으로 나누어 떨어지지 않습니다.\")"
      ],
      "metadata": {
        "colab": {
          "base_uri": "https://localhost:8080/"
        },
        "id": "tJxf1lTBjqVf",
        "outputId": "22d4042f-a09f-4558-ee5a-762bb993f07a"
      },
      "execution_count": 9,
      "outputs": [
        {
          "output_type": "stream",
          "name": "stdout",
          "text": [
            "정수를 입력하시오 : 1\n",
            "2와 3으로 나누어 떨어지지 않습니다.\n"
          ]
        }
      ]
    },
    {
      "cell_type": "code",
      "source": [
        "import random\n",
        " \n",
        "Lotto = random.randint(0, 99)\n",
        " \n",
        "pick = int(input(\"복권 번호를 입력하시오(0에서 99사이):\"))\n",
        "print(\"당첨번호는\", Lotto, \"입니다.\")\n",
        " \n",
        "digit1 = Lotto // 10\n",
        "digit2 = Lotto % 10\n",
        " \n",
        "pickNum1 = pick // 10\n",
        "pickNum2 = pick % 10\n",
        " \n",
        "if pick == Lotto:\n",
        "    print(\"상금은 100만원입니다.\")\n",
        "elif (digit1 == pickNum1) or (digit1 == pickNum2) or (digit2 == pickNum1) or (digit2 == pickNum2) :\n",
        "    print(\"상금은 50만원입니다.\")\n",
        "else:\n",
        "    print(\"상금은 없습니다.\")"
      ],
      "metadata": {
        "colab": {
          "base_uri": "https://localhost:8080/"
        },
        "id": "-bveQ4RXj1Tc",
        "outputId": "5a37479d-1cb7-4a0f-ac6f-9a4d6396d2d2"
      },
      "execution_count": 10,
      "outputs": [
        {
          "output_type": "stream",
          "name": "stdout",
          "text": [
            "복권 번호를 입력하시오(0에서 99사이):88\n",
            "당첨번호는 96 입니다.\n",
            "상금은 없습니다.\n"
          ]
        }
      ]
    },
    {
      "cell_type": "code",
      "source": [],
      "metadata": {
        "id": "IJB2Ab2lj_Ti"
      },
      "execution_count": null,
      "outputs": []
    }
  ]
}